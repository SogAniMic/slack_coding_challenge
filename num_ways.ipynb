{
 "cells": [
  {
   "cell_type": "markdown",
   "id": "30798b4c",
   "metadata": {},
   "source": [
    "# You are given an N by M matrix of 0s and 1s. Starting from the top left corner, how many ways are there to reach the bottom right corner?\n",
    "\n",
    "You can only move right and down. 0 represents an empty space while 1 represents a wall you cannot walk through.\n",
    "\n",
    "For example, given the following matrix:\n",
    "\n",
    "[[0, 0, 1],\n",
    " [0, 0, 1],\n",
    " [1, 0, 0]]\n",
    "Return two, as there are only two ways to get to the bottom right:\n",
    "\n",
    "Right, down, down, right\n",
    "Down, right, down, right\n",
    "The top left corner and bottom right corner will always be 0."
   ]
  },
  {
   "cell_type": "code",
   "execution_count": null,
   "id": "f4c56ad5",
   "metadata": {},
   "outputs": [],
   "source": [
    "EMPTY = 0\n",
    "WALL = 1\n",
    "\n",
    "def num_ways(matrix):\n",
    "    m, n = len(matrix), len(matrix[0])\n",
    "    num_ways_matrix = [[0 for j in range(n)] for i in range(m)]\n",
    "\n",
    "    # Fill first row\n",
    "    for j in range(n):\n",
    "        if matrix[0][j] == WALL:\n",
    "            break\n",
    "        num_ways_matrix[0][j] = 1\n",
    "\n",
    "    # Fill first col\n",
    "    for i in range(m):\n",
    "        if matrix[i][0] == WALL:\n",
    "            break\n",
    "        num_ways_matrix[i][0] = 1\n",
    "\n",
    "    for i in range(1, m):\n",
    "        for j in range(1, n):\n",
    "            from_top = num_ways_matrix[i - 1][j] if matrix[i - 1][j] != WALL else 0\n",
    "            from_left = num_ways_matrix[i][j - 1] if matrix[i][j - 1] != WALL else 0\n",
    "\n",
    "            num_ways_matrix[i][j] = from_top + from_left\n",
    "\n",
    "    return num_ways_matrix[m - 1][n - 1]"
   ]
  }
 ],
 "metadata": {
  "kernelspec": {
   "display_name": "Python 3 (ipykernel)",
   "language": "python",
   "name": "python3"
  },
  "language_info": {
   "codemirror_mode": {
    "name": "ipython",
    "version": 3
   },
   "file_extension": ".py",
   "mimetype": "text/x-python",
   "name": "python",
   "nbconvert_exporter": "python",
   "pygments_lexer": "ipython3",
   "version": "3.9.13"
  }
 },
 "nbformat": 4,
 "nbformat_minor": 5
}
